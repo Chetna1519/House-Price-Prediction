{
  "nbformat": 4,
  "nbformat_minor": 0,
  "metadata": {
    "colab": {
      "provenance": [],
      "gpuType": "T4",
      "mount_file_id": "1itcqoBXNMjW4YuAjESSnl_F317W_e21Q",
      "authorship_tag": "ABX9TyM4kcVxZTaUgZGnIlD5BaMV",
      "include_colab_link": true
    },
    "kernelspec": {
      "name": "python3",
      "display_name": "Python 3"
    },
    "language_info": {
      "name": "python"
    },
    "accelerator": "GPU"
  },
  "cells": [
    {
      "cell_type": "markdown",
      "metadata": {
        "id": "view-in-github",
        "colab_type": "text"
      },
      "source": [
        "<a href=\"https://colab.research.google.com/github/Chetna1519/House-Price-Prediction/blob/main/app_py.ipynb\" target=\"_parent\"><img src=\"https://colab.research.google.com/assets/colab-badge.svg\" alt=\"Open In Colab\"/></a>"
      ]
    },
    {
      "cell_type": "code",
      "execution_count": null,
      "metadata": {
        "id": "iM-owgfBNeBq"
      },
      "outputs": [],
      "source": [
        "from flask import Flask, render_template, request\n",
        "import pickle\n",
        "import numpy as np\n",
        "import pandas as pd\n",
        "import datetime as dt"
      ]
    },
    {
      "cell_type": "code",
      "source": [
        "app = Flask(__name__, template_folder = 'templates')"
      ],
      "metadata": {
        "id": "eYz4mij4OiKm"
      },
      "execution_count": null,
      "outputs": []
    },
    {
      "cell_type": "code",
      "source": [
        "data = pd.read_csv(\"/content/Dataset of House Price Prediction.csv\")"
      ],
      "metadata": {
        "id": "YEmXn-LxOqyk"
      },
      "execution_count": null,
      "outputs": []
    },
    {
      "cell_type": "code",
      "source": [
        "model = pickle.load(open(\"model_rf.pkl\",'rb'))"
      ],
      "metadata": {
        "id": "y9NuiiZXPKkO"
      },
      "execution_count": null,
      "outputs": []
    },
    {
      "cell_type": "code",
      "source": [
        "@app.route(\"/\")\n",
        "def index():\n",
        "  return render_template(\"index.html\")\n"
      ],
      "metadata": {
        "id": "57I9k26LX-7S"
      },
      "execution_count": null,
      "outputs": []
    },
    {
      "cell_type": "code",
      "source": [
        "@app.route(\"/predict\", methods = ['POST','GET'])\n",
        "def predict():\n",
        "   Sqft_living = request.form.get('sqft_living')\n",
        "   Sqft_Area = request.form.get(\"sqft_lot\")\n",
        "   Sqft_above = request.form.get('sqft_above')\n",
        "   Sqft_basement = request.form.get('sqft_basement')\n",
        "   No_of_floors = request.form.get(\"floors\")\n",
        "   No_of_Bedrooms = request.form.get('bedrooms')\n",
        "   waterfront = request.form.get('waterfront')\n",
        "   view = int(2)\n",
        "   condition = int(3)\n",
        "   year_build = request.form.get('yr_built')\n",
        "   year_renovated = request.form.get('yr_renovated')\n",
        "   city = int(35)\n",
        "   zip = int(98103)\n",
        "   year = datetime.datetime.now().year\n",
        "\n",
        "   features = np.array([Sqft_living,Sqft_Area, Sqft_above, Sqft_basement, No_of_floors, No_of_Bedrooms,waterfront,view, condition, year, city, zip, year_build, year_renovated]).reshape(1,-1)\n",
        "   prediction = model.predict(features)\n",
        "   price = prediction * 345.6\n",
        "\n",
        "   return render_template('index.html', result = np.round(price,2))\n",
        "\n",
        "if __name__  ==  '__main__':\n",
        "  app.run(host = \"0.0.0.0\", port = 8008, debug = True)\n",
        "\n",
        "\n"
      ],
      "metadata": {
        "colab": {
          "base_uri": "https://localhost:8080/"
        },
        "id": "jz0pcg1hYQC-",
        "outputId": "911cc246-54c3-4bd0-91e0-0097a5cf9112"
      },
      "execution_count": null,
      "outputs": [
        {
          "metadata": {
            "tags": null
          },
          "name": "stdout",
          "output_type": "stream",
          "text": [
            " * Serving Flask app '__main__'\n",
            " * Debug mode: on\n"
          ]
        },
        {
          "metadata": {
            "tags": null
          },
          "name": "stderr",
          "output_type": "stream",
          "text": [
            "INFO:werkzeug:\u001b[31m\u001b[1mWARNING: This is a development server. Do not use it in a production deployment. Use a production WSGI server instead.\u001b[0m\n",
            " * Running on all addresses (0.0.0.0)\n",
            " * Running on http://127.0.0.1:8008\n",
            " * Running on http://172.28.0.12:8008\n",
            "INFO:werkzeug:\u001b[33mPress CTRL+C to quit\u001b[0m\n",
            "INFO:werkzeug: * Restarting with stat\n"
          ]
        }
      ]
    }
  ]
}